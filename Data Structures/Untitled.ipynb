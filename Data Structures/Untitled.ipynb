{
 "cells": [
  {
   "cell_type": "code",
   "execution_count": null,
   "metadata": {},
   "outputs": [
    {
     "name": "stdout",
     "output_type": "stream",
     "text": [
      "Enter a choice to perform the desired operation:\n",
      "1: Insert in the begining\n",
      "2: Delete from begining\n",
      "3: quit\n",
      "Enter Choice: 1\n",
      "Enter the Value for the node5\n",
      "New Link/Node created \n",
      "Enter Choice: 1\n",
      "Enter the Value for the node7\n",
      "New Link/Node created \n",
      "Enter Choice: 1\n",
      "Enter the Value for the node2\n",
      "New Link/Node created \n",
      "Enter Choice: 2\n",
      "2  deleted\n"
     ]
    }
   ],
   "source": [
    "class Node:\n",
    "    def __init__(self,value):\n",
    "        self.data = value\n",
    "        self.next = None\n",
    "\n",
    "class Linkedlist:\n",
    "    def __init__(self):\n",
    "        self.head = None\n",
    "    def insertBegin(self,value):\n",
    "        if self.head == None:\n",
    "            self.head = Node(value)\n",
    "        else:\n",
    "            temp = Node(value)\n",
    "            temp.next = self.head\n",
    "            self.head = temp\n",
    "        print('New Linkedlist/Node created ')\n",
    "    def delBegin(self):\n",
    "        if self.head == None:\n",
    "            print('Empty Linked list')\n",
    "        else:\n",
    "            temp = self.head\n",
    "            value = self.head.data\n",
    "            self.head = self.head.next\n",
    "            del temp\n",
    "            print(value,' deleted')\n",
    "    def delVal(self,value):\n",
    "        \n",
    "        if self.head == None:\n",
    "            print('Linked list is empty')\n",
    "        elif self.head.next == None:\n",
    "            temp = self.head\n",
    "            self.head = None\n",
    "            del temp\n",
    "        elif self.head.next != None:\n",
    "            deleteflag = 'No'\n",
    "            current = self.head\n",
    "            prev = None\n",
    "            while current != None:\n",
    "                if current.data == value:\n",
    "                    if prev == None:\n",
    "                        temp = self.head\n",
    "                        self.head = self.head.next\n",
    "                        del temp\n",
    "                        print('Value Deleted: ',value)\n",
    "                        deleteflag = 'Yes'\n",
    "                    else:\n",
    "                        temp = current\n",
    "                        prev.next = current.next\n",
    "                        del current\n",
    "                        print('Value Deleted: ',value)\n",
    "                        deleteflag = 'Yes'\n",
    "                else:\n",
    "                    prev = current\n",
    "                    current = current.next\n",
    "            \n",
    "                \n",
    "\n",
    "def main():\n",
    "    print('Enter a choice to perform the desired operation:')\n",
    "    print('1: Insert in the begining')\n",
    "    print('2: Delete from begining')\n",
    "    print('3: quit')\n",
    "    lst = Linkedlist()\n",
    "    while 1:\n",
    "        choice = int(input('Enter Choice: '))\n",
    "        if choice == 1 :\n",
    "            val = eval(input('Enter the Value for the node'))\n",
    "            lst.insertBegin(val)\n",
    "        elif choice ==2:\n",
    "            lst.delBegin()\n",
    "        elif choice ==3:\n",
    "            break\n",
    "\n",
    "            \n",
    "     \n",
    "if __name__ == '__main__':\n",
    "    main()\n",
    "            "
   ]
  },
  {
   "cell_type": "code",
   "execution_count": 44,
   "metadata": {
    "collapsed": true
   },
   "outputs": [],
   "source": [
    "check = {'1' : 'a', '2':'b'}"
   ]
  },
  {
   "cell_type": "code",
   "execution_count": 27,
   "metadata": {},
   "outputs": [
    {
     "data": {
      "text/plain": [
       "'a'"
      ]
     },
     "execution_count": 27,
     "metadata": {},
     "output_type": "execute_result"
    }
   ],
   "source": [
    "check['1']"
   ]
  },
  {
   "cell_type": "code",
   "execution_count": null,
   "metadata": {
    "collapsed": true
   },
   "outputs": [],
   "source": []
  }
 ],
 "metadata": {
  "kernelspec": {
   "display_name": "Python 3",
   "language": "python",
   "name": "python3"
  },
  "language_info": {
   "codemirror_mode": {
    "name": "ipython",
    "version": 3
   },
   "file_extension": ".py",
   "mimetype": "text/x-python",
   "name": "python",
   "nbconvert_exporter": "python",
   "pygments_lexer": "ipython3",
   "version": "3.6.3"
  }
 },
 "nbformat": 4,
 "nbformat_minor": 2
}
