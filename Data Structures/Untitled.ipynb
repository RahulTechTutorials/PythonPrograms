{
 "cells": [
  {
   "cell_type": "code",
   "execution_count": 19,
   "metadata": {},
   "outputs": [
    {
     "name": "stdout",
     "output_type": "stream",
     "text": [
      "Please enter the expression in the Postfix style with only single digit operands75-6*9+\n",
      "21\n"
     ]
    }
   ],
   "source": [
    "class stack:\n",
    "    def __init__(self):\n",
    "        self.values = list()\n",
    "    \n",
    "    def push(self,element):\n",
    "        self.values.append(element)\n",
    "    \n",
    "    def isEmpty(self):\n",
    "        return len(self.values) == 0\n",
    "    \n",
    "    def pop(self):\n",
    "        if not ( self.isEmpty() ):\n",
    "            return self.values.pop()\n",
    "        else:\n",
    "            print('Stack Underflow')\n",
    "            return none\n",
    "    \n",
    "    def top(self):\n",
    "        if not ( self.isEmpty() ):\n",
    "            return self.values[-1]\n",
    "        else:\n",
    "            print('Stack Underflow')\n",
    "            return none\n",
    "    \n",
    "    def size(self):\n",
    "        return len(self.values)\n",
    "    \n",
    "    def __str__(self):\n",
    "        stringrep = ''\n",
    "        for i in reversed(self.values):\n",
    "            stringrep += str(i) + '\\t'\n",
    "        return stringrep\n",
    "            \n",
    "\n",
    "        \n",
    "def EvaluatePostFixExp(exp):\n",
    "    stk = stack()\n",
    "    operators = ['+','-','*','/']\n",
    "    for symbol in exp:\n",
    "        if symbol in operators:\n",
    "            operator2 = stk.pop()\n",
    "            operator1 = stk.pop()\n",
    "            result = str(eval(operator1 + symbol + operator2))\n",
    "            stk.push(result)\n",
    "        else:\n",
    "            stk.push(symbol)\n",
    "    result = int(stk.pop())\n",
    "    return result\n",
    "    \n",
    "        \n",
    "def main():\n",
    "    \"\"\"Limitation is that only one digit Intergers can \n",
    "      be calculated and Postfix expression needs to be fed\"\"\"\n",
    "    \n",
    "    exp = input('Please enter the expression in the Postfix style with only single digit operands')\n",
    "    print(EvaluatePostFixExp(exp))\n",
    "        \n",
    "\n",
    "if __name__ == '__main__':\n",
    "    main()\n",
    "            "
   ]
  },
  {
   "cell_type": "code",
   "execution_count": null,
   "metadata": {
    "collapsed": true
   },
   "outputs": [],
   "source": []
  }
 ],
 "metadata": {
  "kernelspec": {
   "display_name": "Python 3",
   "language": "python",
   "name": "python3"
  },
  "language_info": {
   "codemirror_mode": {
    "name": "ipython",
    "version": 3
   },
   "file_extension": ".py",
   "mimetype": "text/x-python",
   "name": "python",
   "nbconvert_exporter": "python",
   "pygments_lexer": "ipython3",
   "version": "3.6.3"
  }
 },
 "nbformat": 4,
 "nbformat_minor": 2
}
