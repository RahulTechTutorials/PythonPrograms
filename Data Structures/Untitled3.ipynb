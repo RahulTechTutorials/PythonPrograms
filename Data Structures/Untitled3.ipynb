{
 "cells": [
  {
   "cell_type": "code",
   "execution_count": 92,
   "metadata": {},
   "outputs": [
    {
     "name": "stdout",
     "output_type": "stream",
     "text": [
      "Enter the first element of the range :2.5\n",
      "Enter the last element of the range :4.5\n",
      "Enter the step size0.1\n",
      "[2.5, 2.6, 2.7, 2.8, 2.9, 3.0, 3.1, 3.2, 3.3, 3.4, 3.5, 3.6, 3.7, 3.8, 3.9000000000000004, 4.0, 4.1, 4.2, 4.3, 4.4, 4.5]\n"
     ]
    },
    {
     "data": {
      "image/png": "[encoded data removed]",
      "text/plain": [
       "<matplotlib.figure.Figure at 0x10e729e48>"
      ]
     },
     "metadata": {},
     "output_type": "display_data"
    }
   ],
   "source": [
    "def isFull(board):\n",
    "    for x in range(0,9):\n",
    "        for y in range(0,9):\n",
    "            if board[x][y] ==0:\n",
    "                return False\n",
    "    return True\n",
    "\n",
    "def possibleEntries(board,i,j):\n",
    "    possibilityArray = {}\n",
    "    for x in range(1,10):\n",
    "        possibilityArray[0] = 0\n",
    "    \n",
    "    for y in range(0,9):\n",
    "        if board[i][y] ==0:\n",
    "            possibilityArray[board[i][y]] = 1\n",
    "        \n",
    "    for x in range(0,9):\n",
    "        if board[x][j] ==0:\n",
    "            possibilityArray[board[x][j]] = 1\n",
    "            \n",
    "    k = 0\n",
    "    l = 0\n",
    "    \n",
    "    if i >= 0 and i <= 2:\n",
    "        k = 0\n",
    "    elif i >= 3 and i <= 5:\n",
    "        k = 3\n",
    "    else:\n",
    "        k = 6\n",
    "    \n",
    "    if j >= 0 and j <= 2:\n",
    "        l = 0\n",
    "    elif j >= 3 and j <= 5:\n",
    "        l = 3\n",
    "    else:\n",
    "        l = 6\n",
    "    \n",
    "    for x in range(k,k+3):\n",
    "        for y in range(l,l+3):\n",
    "            if board[x][y] == 0\n",
    "            possibilityArray[board[x][y]] = 1\n",
    "    \n",
    "    for x in range(1,10):\n",
    "        if possibilityArray[x] == 0:\n",
    "            possibilityArray[x] == x\n",
    "        else:\n",
    "            possibilityArray[x] = 0\n",
    "    return possibilityArray\n",
    "            \n",
    "            \n",
    "        \n",
    "    \n",
    "\n",
    "def sudokusolver(board):\n",
    "    i = 0 \n",
    "    j = 0\n",
    "    possiblities = {}\n",
    "    \n",
    "    if isFull(board):\n",
    "        print('The board solved successfully')\n",
    "        printBoard(board)\n",
    "        return \n",
    "    else:\n",
    "        for x in range(0,9):\n",
    "            for y in range(0,9):\n",
    "                if board[x][y] == 0:\n",
    "                    i = x\n",
    "                    j = y\n",
    "                    break\n",
    "                else:\n",
    "                    continue\n",
    "                break"
   ]
  },
  {
   "cell_type": "code",
   "execution_count": 95,
   "metadata": {},
   "outputs": [
    {
     "name": "stdout",
     "output_type": "stream",
     "text": [
      "1 2 3 4 5 6 7 8 9 "
     ]
    }
   ],
   "source": [
    "for x in range(1,10):\n",
    "    print(x,end=' ')"
   ]
  },
  {
   "cell_type": "code",
   "execution_count": null,
   "metadata": {
    "collapsed": true
   },
   "outputs": [],
   "source": []
  }
 ],
 "metadata": {
  "kernelspec": {
   "display_name": "Python 3",
   "language": "python",
   "name": "python3"
  },
  "language_info": {
   "codemirror_mode": {
    "name": "ipython",
    "version": 3
   },
   "file_extension": ".py",
   "mimetype": "text/x-python",
   "name": "python",
   "nbconvert_exporter": "python",
   "pygments_lexer": "ipython3",
   "version": "3.6.3"
  }
 },
 "nbformat": 4,
 "nbformat_minor": 2
}
