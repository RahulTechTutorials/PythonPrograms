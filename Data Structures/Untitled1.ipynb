{
 "cells": [
  {
   "cell_type": "code",
   "execution_count": 28,
   "metadata": {},
   "outputs": [
    {
     "name": "stdout",
     "output_type": "stream",
     "text": [
      "Enter a choice to perform the desired operation:\n",
      "1: Create Queue\n",
      "2: Delete Queue\n",
      "3: Enqueue\n",
      "4: Dequeue\n",
      "5: Print Queue data\n",
      "6: Front Element\n",
      "7: Quit\n",
      "Enter Choice: 1\n",
      "Queue Created\n",
      "Enter Choice: 3\n",
      "Enter the Value to be enqueued12\n",
      "New value inserted in the Linked Queue \n",
      "Value queued:  12\n",
      "Enter Choice: 3\n",
      "Enter the Value to be enqueued43\n",
      "New value inserted in the Linked Queue \n",
      "Value queued:  43\n",
      "Enter Choice: 3\n",
      "Enter the Value to be enqueued64\n",
      "New value inserted in the Linked Queue \n",
      "Value queued:  64\n",
      "Enter Choice: 3\n",
      "Enter the Value to be enqueued22\n",
      "New value inserted in the Linked Queue \n",
      "Value queued:  22\n",
      "Enter Choice: 3\n",
      "Enter the Value to be enqueued55\n",
      "New value inserted in the Linked Queue \n",
      "Value queued:  55\n",
      "Enter Choice: 5\n",
      "12->43->64->22->55->\n",
      "Enter Choice: 4\n",
      "Value removed:  12\n",
      "Enter Choice: 5\n",
      "43->64->22->55->\n",
      "Enter Choice: 3\n",
      "Enter the Value to be enqueued98\n",
      "New value inserted in the Linked Queue \n",
      "Value queued:  98\n",
      "Enter Choice: 5\n",
      "43->64->22->55->98->\n",
      "Enter Choice: 4\n",
      "Value removed:  43\n",
      "Enter Choice: 5\n",
      "64->22->55->98->\n",
      "Enter Choice: 6\n",
      "The top element is:  64\n",
      "Enter Choice: 2\n",
      "Queue Deleted\n",
      "Enter Choice: 5\n"
     ]
    },
    {
     "ename": "UnboundLocalError",
     "evalue": "local variable 'qu' referenced before assignment",
     "output_type": "error",
     "traceback": [
      "\u001b[0;31m---------------------------------------------------------------------------\u001b[0m",
      "\u001b[0;31mUnboundLocalError\u001b[0m                         Traceback (most recent call last)",
      "\u001b[0;32m<ipython-input-28-9436678b6b31>\u001b[0m in \u001b[0;36m<module>\u001b[0;34m()\u001b[0m\n\u001b[1;32m     81\u001b[0m \u001b[0;34m\u001b[0m\u001b[0m\n\u001b[1;32m     82\u001b[0m \u001b[0;32mif\u001b[0m \u001b[0m__name__\u001b[0m \u001b[0;34m==\u001b[0m \u001b[0;34m'__main__'\u001b[0m\u001b[0;34m:\u001b[0m\u001b[0;34m\u001b[0m\u001b[0m\n\u001b[0;32m---> 83\u001b[0;31m     \u001b[0mmain\u001b[0m\u001b[0;34m(\u001b[0m\u001b[0;34m)\u001b[0m\u001b[0;34m\u001b[0m\u001b[0m\n\u001b[0m\u001b[1;32m     84\u001b[0m \u001b[0;34m\u001b[0m\u001b[0m\n",
      "\u001b[0;32m<ipython-input-28-9436678b6b31>\u001b[0m in \u001b[0;36mmain\u001b[0;34m()\u001b[0m\n\u001b[1;32m     73\u001b[0m             \u001b[0mprint\u001b[0m\u001b[0;34m(\u001b[0m\u001b[0;34m'Value removed: '\u001b[0m\u001b[0;34m,\u001b[0m\u001b[0mval\u001b[0m\u001b[0;34m)\u001b[0m\u001b[0;34m\u001b[0m\u001b[0m\n\u001b[1;32m     74\u001b[0m         \u001b[0;32melif\u001b[0m \u001b[0mchoice\u001b[0m \u001b[0;34m==\u001b[0m \u001b[0;36m5\u001b[0m\u001b[0;34m:\u001b[0m\u001b[0;34m\u001b[0m\u001b[0m\n\u001b[0;32m---> 75\u001b[0;31m             \u001b[0mprint\u001b[0m\u001b[0;34m(\u001b[0m\u001b[0mqu\u001b[0m\u001b[0;34m)\u001b[0m\u001b[0;34m\u001b[0m\u001b[0m\n\u001b[0m\u001b[1;32m     76\u001b[0m         \u001b[0;32melif\u001b[0m \u001b[0mchoice\u001b[0m \u001b[0;34m==\u001b[0m\u001b[0;36m6\u001b[0m\u001b[0;34m:\u001b[0m\u001b[0;34m\u001b[0m\u001b[0m\n\u001b[1;32m     77\u001b[0m             \u001b[0mfrontelement\u001b[0m \u001b[0;34m=\u001b[0m \u001b[0mqu\u001b[0m\u001b[0;34m.\u001b[0m\u001b[0mgetFront\u001b[0m\u001b[0;34m(\u001b[0m\u001b[0;34m)\u001b[0m\u001b[0;34m\u001b[0m\u001b[0m\n",
      "\u001b[0;31mUnboundLocalError\u001b[0m: local variable 'qu' referenced before assignment"
     ]
    }
   ],
   "source": [
    "class Node:\n",
    "    def __init__(self,value):\n",
    "        self.left = None\n",
    "        self.data = value\n",
    "        self.right = None\n",
    "\n",
    "\n",
    "def main():\n",
    "    bst = Node(15)\n",
    "    bst.left = Node(10)\n",
    "    bst.left.left = Node(6)\n",
    "    bst.right = Node(23)\n",
    "    bst.right.left = Node(20)\n",
    "    bst.right.right = Node(30)\n",
    "\n",
    "    \n",
    "    \n",
    "     \n",
    "if __name__ == '__main__':\n",
    "    main()\n",
    "            "
   ]
  },
  {
   "cell_type": "code",
   "execution_count": null,
   "metadata": {
    "collapsed": true
   },
   "outputs": [],
   "source": []
  }
 ],
 "metadata": {
  "kernelspec": {
   "display_name": "Python 3",
   "language": "python",
   "name": "python3"
  },
  "language_info": {
   "codemirror_mode": {
    "name": "ipython",
    "version": 3
   },
   "file_extension": ".py",
   "mimetype": "text/x-python",
   "name": "python",
   "nbconvert_exporter": "python",
   "pygments_lexer": "ipython3",
   "version": "3.6.3"
  }
 },
 "nbformat": 4,
 "nbformat_minor": 2
}
