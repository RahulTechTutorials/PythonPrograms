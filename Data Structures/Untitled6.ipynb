{
 "cells": [
  {
   "cell_type": "code",
   "execution_count": 47,
   "metadata": {},
   "outputs": [
    {
     "name": "stdout",
     "output_type": "stream",
     "text": [
      "1 3\n",
      "2 4\n",
      "5 6\n"
     ]
    }
   ],
   "source": [
    "chessboard = [[0 for x in range(9)] for y in range(9)]\n",
    "lst = [[1,3],[2,4],[5,6]]\n",
    "tup = ((1,2),(2,3),(3,4))\n",
    "for (x,y) in lst:\n",
    "    print(x,y)"
   ]
  },
  {
   "cell_type": "code",
   "execution_count": null,
   "metadata": {
    "collapsed": true
   },
   "outputs": [],
   "source": [
    "chessboard = [[0 for x in range(9)] for y in range(9)]\n",
    "print(chessboard)\n",
    "for x in range(9): \n",
    "    for y in range(9) : \n",
    "        if y == 8 : \n",
    "            chessboard[x][y] = 5\n",
    "print(chessboard)"
   ]
  },
  {
   "cell_type": "code",
   "execution_count": 53,
   "metadata": {},
   "outputs": [
    {
     "name": "stdout",
     "output_type": "stream",
     "text": [
      "0\n",
      "1\n",
      "2\n",
      "3\n",
      "4\n",
      "5\n",
      "6\n",
      "7\n",
      "yes\n"
     ]
    }
   ],
   "source": [
    "lst = list(range(8))\n",
    "for x in lst:\n",
    "    print(lst[x])\n",
    "if 3 in lst:\n",
    "    print('yes')\n",
    "else :\n",
    "    print('No')"
   ]
  },
  {
   "cell_type": "code",
   "execution_count": 80,
   "metadata": {},
   "outputs": [
    {
     "name": "stdout",
     "output_type": "stream",
     "text": [
      "('r', 'a', 'h', 'u', 'l', '3')\n",
      "('p', 'r', 'i', 'y', 'a', 'n', 'k', 'a')\n",
      "(('r', 'p'), ('a', 'r'), ('h', 'i'), ('u', 'y'), ('l', 'a'), ('3', 'n'))\n",
      "2\n"
     ]
    }
   ],
   "source": [
    "\n",
    "possibleMovesX = 'rahul'\n",
    "possibleMovesY = 'priyanka'\n",
    "n = 2\n",
    "possibleMovesX += str(n+1)\n",
    "\n",
    "possibleMovesX = tuple(possibleMovesX)\n",
    "possibleMovesY = tuple(possibleMovesY)\n",
    "print(possibleMovesX)\n",
    "print(possibleMovesY)\n",
    "possibleMoves = tuple(zip(possibleMovesX,possibleMovesY))\n",
    "print(possibleMoves)\n",
    "j = int(2)\n",
    "print(j)\n",
    "\n"
   ]
  },
  {
   "cell_type": "code",
   "execution_count": 87,
   "metadata": {},
   "outputs": [
    {
     "name": "stdout",
     "output_type": "stream",
     "text": [
      "(('7', '4'), ('7', '6'), ('3', '4'), ('3', '6'), ('6', '3'), ('6', '7'), ('4', '3'), ('4', '7'))\n"
     ]
    }
   ],
   "source": [
    "def nextMoves(board, row, col):\n",
    "    possibleMovesX = ''\n",
    "    possibleMovesY = ''\n",
    "    possibleMoves = ()\n",
    "    \n",
    "    lst = list(range(8))\n",
    "    if row+2 in lst and col-1 in lst:\n",
    "        possibleMovesX += str(row+2)\n",
    "        possibleMovesY += str(col-1)\n",
    "    if row+2 in lst and col+1 in lst:\n",
    "        possibleMovesX += str(row+2)\n",
    "        possibleMovesY += str(col+1)\n",
    "    if row-2 in lst and col-1 in lst:\n",
    "        possibleMovesX += str(row-2)\n",
    "        possibleMovesY += str(col-1)\n",
    "    if row-2 in lst and col+1 in lst:\n",
    "        possibleMovesX += str(row-2)\n",
    "        possibleMovesY += str(col+1)\n",
    "    if row+1 in lst and col-2 in lst:\n",
    "        possibleMovesX += str(row+1)\n",
    "        possibleMovesY += str(col-2)\n",
    "    if row+1 in lst and col+2 in lst:\n",
    "        possibleMovesX += str(row+1)\n",
    "        possibleMovesY += str(col+2)\n",
    "    if row-1 in lst and col-2 in lst:\n",
    "        possibleMovesX += str(row-1)\n",
    "        possibleMovesY += str(col-2)\n",
    "    if row-1 in lst and col+2 in lst:\n",
    "        possibleMovesX += str(row-1)\n",
    "        possibleMovesY += str(col+2)\n",
    "    \n",
    "    possibleMovesX = tuple(possibleMovesX)\n",
    "    possibleMovesY = tuple(possibleMovesY)\n",
    "    possibleMoves = tuple(zip(possibleMovesX,possibleMovesY))\n",
    "    return possibleMoves\n",
    "\n",
    "def main():\n",
    "    chessboard = [[0 for x in range(5)] for y in range(5)]\n",
    "    check = nextMoves(chessboard, 0,0)\n",
    "    print(check)\n",
    "\n",
    "\n",
    "if __name__ == '__main__':\n",
    "    main()"
   ]
  },
  {
   "cell_type": "code",
   "execution_count": null,
   "metadata": {
    "collapsed": true
   },
   "outputs": [],
   "source": []
  }
 ],
 "metadata": {
  "kernelspec": {
   "display_name": "Python 3",
   "language": "python",
   "name": "python3"
  },
  "language_info": {
   "codemirror_mode": {
    "name": "ipython",
    "version": 3
   },
   "file_extension": ".py",
   "mimetype": "text/x-python",
   "name": "python",
   "nbconvert_exporter": "python",
   "pygments_lexer": "ipython3",
   "version": "3.6.3"
  }
 },
 "nbformat": 4,
 "nbformat_minor": 2
}
