{
 "cells": [
  {
   "cell_type": "code",
   "execution_count": 186,
   "metadata": {},
   "outputs": [
    {
     "name": "stdout",
     "output_type": "stream",
     "text": [
      "The knight tour has completed\n",
      "\n",
      "1  10  19  14  23  \n",
      "\n",
      "18  5  22  9  20  \n",
      "\n",
      "11  2  13  24  15  \n",
      "\n",
      "6  17  4  21  8  \n",
      "\n",
      "3  12  7  16  25  \n",
      "\n"
     ]
    }
   ],
   "source": [
    "\n",
    "## This function wil print the chess board in n* n matrix\n",
    "def printChessboard(board):\n",
    "    for i in range(5):\n",
    "        for j in range(5):\n",
    "            print(board[i][j], end = \"  \")\n",
    "        print('\\n')\n",
    "    \n",
    "## This function will determine if the possible moves of knight.\n",
    "def nextMoves(board, row, col):\n",
    "    possibleMovesX = ''\n",
    "    possibleMovesY = ''\n",
    "    possibleMoves = ()\n",
    "    \n",
    "    lst = list(range(5))\n",
    "    if row+2 in lst and col-1 in lst and  board[row+2][col-1] == 0 :\n",
    "        possibleMovesX += str(row+2)\n",
    "        possibleMovesY += str(col-1)\n",
    "    if row+2 in lst and col+1 in lst and  board[row+2][col+1] == 0 :\n",
    "        possibleMovesX += str(row+2)\n",
    "        possibleMovesY += str(col+1)\n",
    "    if row-2 in lst and col-1 in lst and  board[row-2][col-1] == 0 :\n",
    "        possibleMovesX += str(row-2)\n",
    "        possibleMovesY += str(col-1)\n",
    "    if row-2 in lst and col+1 in lst and  board[row-2][col+1] == 0 :\n",
    "        possibleMovesX += str(row-2)\n",
    "        possibleMovesY += str(col+1)\n",
    "    if row+1 in lst and col-2 in lst and  board[row+1][col-2] == 0 :\n",
    "        possibleMovesX += str(row+1)\n",
    "        possibleMovesY += str(col-2)\n",
    "    if row+1 in lst and col+2 in lst and  board[row+1][col+2] == 0 :\n",
    "        possibleMovesX += str(row+1)\n",
    "        possibleMovesY += str(col+2)\n",
    "    if row-1 in lst and col-2 in lst and  board[row-1][col-2] == 0 :\n",
    "        possibleMovesX += str(row-1)\n",
    "        possibleMovesY += str(col-2)\n",
    "    if row-1 in lst and col+2 in lst and  board[row-1][col+2] == 0 :\n",
    "        possibleMovesX += str(row-1)\n",
    "        possibleMovesY += str(col+2)\n",
    "    \n",
    "    possibleMovesX = tuple(possibleMovesX)\n",
    "    possibleMovesY = tuple(possibleMovesY)\n",
    "    possibleMoves = tuple(zip(possibleMovesX,possibleMovesY))\n",
    "    return possibleMoves\n",
    "       \n",
    "\n",
    "## This function will recursively run and place all the knights\n",
    "def knightMove(board,row,col,count):\n",
    "    if count == 26:\n",
    "        print('The knight tour has completed\\n')\n",
    "        printChessboard(board)\n",
    "        return\n",
    "    else :\n",
    "        possibleMoves = nextMoves(board,row,col)\n",
    "        for (x,y) in possibleMoves:\n",
    "            i = int(x) ; j = int(y)\n",
    "            if board[i][j] == 0:\n",
    "                board[i][j] = count\n",
    "                knightMove(board,i,j,count+1)\n",
    "\n",
    "###This is the back tracking mechanism.\n",
    "        for a in range(5):\n",
    "            for b in range(5):\n",
    "                if board[a][b] == count-1:\n",
    "                    board[a][b] = 0\n",
    "        \n",
    "            \n",
    " \n",
    "##Main function to call the solution\n",
    "def main():\n",
    "\n",
    "    chessboard = [[0 for x in range(5)] for y in range(5)]\n",
    "    chessboard[0][0] = 1\n",
    "    knightMove(chessboard, 0,0,2)\n",
    "\n",
    "if __name__ == '__main__':\n",
    "    main()\n",
    "    "
   ]
  },
  {
   "cell_type": "code",
   "execution_count": null,
   "metadata": {
    "collapsed": true
   },
   "outputs": [],
   "source": []
  },
  {
   "cell_type": "code",
   "execution_count": null,
   "metadata": {
    "collapsed": true
   },
   "outputs": [],
   "source": []
  }
 ],
 "metadata": {
  "kernelspec": {
   "display_name": "Python 3",
   "language": "python",
   "name": "python3"
  },
  "language_info": {
   "codemirror_mode": {
    "name": "ipython",
    "version": 3
   },
   "file_extension": ".py",
   "mimetype": "text/x-python",
   "name": "python",
   "nbconvert_exporter": "python",
   "pygments_lexer": "ipython3",
   "version": "3.6.3"
  }
 },
 "nbformat": 4,
 "nbformat_minor": 2
}
