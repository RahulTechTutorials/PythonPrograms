{
 "cells": [
  {
   "cell_type": "code",
   "execution_count": 17,
   "metadata": {},
   "outputs": [
    {
     "name": "stdout",
     "output_type": "stream",
     "text": [
      "Called filetwo module, the name variable is: __main__\n",
      "functionC is called\n",
      "functionD is called\n"
     ]
    }
   ],
   "source": [
    "import sys\n",
    "sys.path.append('/Users/rahuljain/Desktop/Python/PythonPrograms/Basics')\n",
    "import fileone\n",
    "\n",
    "print('Called filetwo module, the name variable is:', __name__)\n",
    "def functionC():\n",
    "    print('functionC is called')\n",
    "def functionD():\n",
    "    print('functionD is called')\n",
    "\n",
    "if __name__ == '__main__':\n",
    "    functionC()\n",
    "    functionD()"
   ]
  },
  {
   "cell_type": "code",
   "execution_count": null,
   "metadata": {
    "collapsed": true
   },
   "outputs": [],
   "source": []
  },
  {
   "cell_type": "code",
   "execution_count": null,
   "metadata": {
    "collapsed": true
   },
   "outputs": [],
   "source": []
  }
 ],
 "metadata": {
  "kernelspec": {
   "display_name": "Python 3",
   "language": "python",
   "name": "python3"
  }
 },
 "nbformat": 4,
 "nbformat_minor": 2
}
