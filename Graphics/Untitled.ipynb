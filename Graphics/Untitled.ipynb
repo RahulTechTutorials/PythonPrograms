{
 "cells": [
  {
   "cell_type": "code",
   "execution_count": 92,
   "metadata": {},
   "outputs": [
    {
     "name": "stdout",
     "output_type": "stream",
     "text": [
      "\n",
      "Name :  Rahul Jain\n",
      "Screen Name :  rahulxjain\n",
      "ID :  81017168\n",
      "Account Creation Date and Time :  2009-10-09 03:29:56\n",
      "Description :  \n",
      "No. of followers :  40\n",
      "No. of friends :  72\n",
      "No. of favourite tweets  :  2\n",
      "No. of posted tweets :  11\n",
      "Associated URL :  None\n",
      "\n",
      "Enter the name/handle for user identificationrahul\n",
      "\n",
      "Name :  Rahul\n",
      "Screen Name :  Rahul\n",
      "ID :  9271\n",
      "Account Creation Date and Time :  2006-10-17 18:56:49\n",
      "Description :  UX E n g i n e  e   r  m a k i n   g w̸̡̧̛̞̜͔̺̮̼̌̽͋͌͐͘̕͝e̶̢̧̧̢̪̘̞͉̝̣̥̦͛̇̒̏̑͋̀̕͜͠ḯ̵̢͉̦̹̱͍̽̌̓̚ͅṟ̷̜̝̼̫͍̬͚̰̻̥͉͓̩̄̾͂̀̿̋̀̒̿́̂̚̚͠͝d̵̢̥͈͓͎̥̗̱̼̜̦̽͛̐͌͑̊̔̎͘ͅs @google\n",
      "No. of followers :  4779\n",
      "No. of friends :  808\n",
      "No. of favourite tweets  :  8235\n",
      "No. of posted tweets :  10235\n",
      "Associated URL :  https://t.co/pbkqTWPoUg\n"
     ]
    }
   ],
   "source": [
    "import tweepy\n",
    "import sys\n",
    "sys.path.append('/Users/rahuljain/Desktop/Python/PythonPrograms/Python_Application')\n",
    "from tweepy import OAuthHandler\n",
    "##import twitter_credentials\n",
    "\n",
    "def OAuthVerifier():\n",
    "    '''\n",
    "    This method is used to authenticate the user and create an object of the API class\n",
    "    '''\n",
    "    authentication = tweepy.OAuthHandler(CONSUMER_KEY,CONSUMER_SECRET)\n",
    "    authentication.set_access_token(ACCESS_TOKEN,ACCESS_TOKEN_SECRET)\n",
    "    api = tweepy.API(authentication)\n",
    "    \n",
    "    return api\n",
    "\n",
    "def getUserStatistics(user):\n",
    "    '''\n",
    "    This program is used to fetch the User information\n",
    "    '''\n",
    "    print('\\nName : ', user.name)\n",
    "    print('Screen Name : ', user.screen_name)\n",
    "    print('ID : ', user.id)\n",
    "    print('Account Creation Date and Time : ', user.created_at)\n",
    "    print('Description : ', user.description)\n",
    "    print('No. of followers : ', user.followers_count)\n",
    "    print('No. of friends : ', user.friends_count)\n",
    "    print('No. of favourite tweets  : ', user.favourites_count)\n",
    "    print('No. of posted tweets : ', user.statuses_count)\n",
    "    print('Associated URL : ', user.url)\n",
    "\n",
    "def main():\n",
    "    api = OAuthVerifier()\n",
    "    user = api.me()\n",
    "    getUserStatistics(user)\n",
    "    \n",
    "    ##Different User\n",
    "    name = input('\\nEnter the name/handle for user identification')\n",
    "    try:\n",
    "        user = api.get_user(name)\n",
    "        getUserStatistics(user)\n",
    "    except : print(name, ' user Not found')\n",
    "    \n",
    "if __name__ == '__main__':\n",
    "    main()\n",
    "    \n"
   ]
  },
  {
   "cell_type": "code",
   "execution_count": null,
   "metadata": {
    "collapsed": true
   },
   "outputs": [],
   "source": []
  },
  {
   "cell_type": "code",
   "execution_count": null,
   "metadata": {
    "collapsed": true
   },
   "outputs": [],
   "source": []
  }
 ],
 "metadata": {
  "kernelspec": {
   "display_name": "Python 3",
   "language": "python",
   "name": "python3"
  },
  "language_info": {
   "codemirror_mode": {
    "name": "ipython",
    "version": 3
   },
   "file_extension": ".py",
   "mimetype": "text/x-python",
   "name": "python",
   "nbconvert_exporter": "python",
   "pygments_lexer": "ipython3",
   "version": "3.6.3"
  }
 },
 "nbformat": 4,
 "nbformat_minor": 2
}
