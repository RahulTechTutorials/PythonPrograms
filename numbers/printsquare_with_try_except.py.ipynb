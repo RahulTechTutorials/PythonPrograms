{
 "cells": [
  {
   "cell_type": "code",
   "execution_count": 52,
   "metadata": {},
   "outputs": [
    {
     "name": "stdout",
     "output_type": "stream",
     "text": [
      "Enter the number to check the prime:d\n",
      "You have entered a Non numeric number\n"
     ]
    }
   ],
   "source": [
    "def primecheck():\n",
    "    '''This is a program to check the entered number is a prime or not'''\n",
    "    try:\n",
    "        Number = input('Enter the number to check the prime:')\n",
    "        status = 'prime'\n",
    "        Number = int(Number)\n",
    "        for i in range(2,Number):\n",
    "            if Number % i == 0:\n",
    "                status = 'composite'\n",
    "            else:\n",
    "                continue\n",
    "        if Number == '':\n",
    "            print('The input is not a valid number')\n",
    "        elif Number < 0:\n",
    "            print('The number is a negative Number')\n",
    "        elif Number == 0 or Number == 1 :\n",
    "            print('The number is neither prime nor composite')\n",
    "        else: \n",
    "            print('The number ', Number, ' is ', status)\n",
    "                \n",
    "    \n",
    "    except ValueError:\n",
    "        print('You have entered a Non numeric number')\n",
    "        \n",
    "def main():\n",
    "    primecheck()\n",
    "\n",
    "if __name__ == '__main__':\n",
    "    main()\n",
    "        \n"
   ]
  },
  {
   "cell_type": "code",
   "execution_count": null,
   "metadata": {
    "collapsed": true
   },
   "outputs": [],
   "source": []
  }
 ],
 "metadata": {
  "kernelspec": {
   "display_name": "Python 3",
   "language": "python",
   "name": "python3"
  },
  "language_info": {
   "codemirror_mode": {
    "name": "ipython",
    "version": 3
   },
   "file_extension": ".py",
   "mimetype": "text/x-python",
   "name": "python",
   "nbconvert_exporter": "python",
   "pygments_lexer": "ipython3",
   "version": "3.6.3"
  }
 },
 "nbformat": 4,
 "nbformat_minor": 2
}
