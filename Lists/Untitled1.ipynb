{
 "cells": [
  {
   "cell_type": "code",
   "execution_count": null,
   "metadata": {},
   "outputs": [],
   "source": [
    "def partition(lst,low,high):\n",
    "    pivot = lst[low]\n",
    "    i = low ; j = high\n",
    "    while i < j:\n",
    "        while lst[i] >= pivot and lst[j] <= pivot:\n",
    "            if i < j:\n",
    "                lst[i],lst[j] = lst[j],lst[i]\n",
    "            i += 1\n",
    "            j -= 1\n",
    "    lst[low] , lst[j] = lst[j], lst[low]\n",
    "    return j\n",
    "        \n",
    "        \n",
    "\n",
    "def quicksort(lst, low = 0, high = None):\n",
    "    if high == None:\n",
    "        high = len(lst) -1 \n",
    "    if low < high:\n",
    "        splitpoint = partition(lst,low,high)\n",
    "        quicksort(lst,low,splitpoint)\n",
    "        quicksort(lst,splitpoint+1,high)\n",
    "    return lst\n",
    "    \n",
    "\n",
    "def main():\n",
    "    lst = [15,17,13,11,12,16,14]\n",
    "    print('The original list is:\\n',lst)\n",
    "    quicksort1 = quicksort(lst)\n",
    "    print('The sorted list is\\n',quicksort1)\n",
    "    \n",
    "if __name__ == '__main__':\n",
    "    main()"
   ]
  },
  {
   "cell_type": "code",
   "execution_count": null,
   "metadata": {
    "collapsed": true
   },
   "outputs": [],
   "source": []
  }
 ],
 "metadata": {
  "kernelspec": {
   "display_name": "Python 3",
   "language": "python",
   "name": "python3"
  }
 },
 "nbformat": 4,
 "nbformat_minor": 2
}
