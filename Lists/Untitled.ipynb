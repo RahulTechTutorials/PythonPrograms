{
 "cells": [
  {
   "cell_type": "code",
   "execution_count": 2,
   "metadata": {},
   "outputs": [
    {
     "name": "stdout",
     "output_type": "stream",
     "text": [
      "[['Rahul', '175'], ['Rahul', '153'], ['Rahul', '178'], ['Rahul', '143'], ['Rahul', '180'], ['Priyanka', '175'], ['Priyanka', '153'], ['Priyanka', '178'], ['Priyanka', '143'], ['Priyanka', '180'], ['Ram', '175'], ['Ram', '153'], ['Ram', '178'], ['Ram', '143'], ['Ram', '180'], ['Sita', '175'], ['Sita', '153'], ['Sita', '178'], ['Sita', '143'], ['Sita', '180'], ['Pawan', '175'], ['Pawan', '153'], ['Pawan', '178'], ['Pawan', '143'], ['Pawan', '180']]\n"
     ]
    }
   ],
   "source": [
    "def main():\n",
    "    '''This is a program to generate a cross product list from two lists'''\n",
    "    names = ['Rahul','Priyanka','Ram','Sita','Pawan']\n",
    "    marks = ['175','153','178','143','180']\n",
    "    namemark = [[x,y] for x in names for y in heights ]\n",
    "    print (namemarks)\n",
    "    \n",
    "\n",
    "if __name__ == '__main__':\n",
    "    main()"
   ]
  },
  {
   "cell_type": "code",
   "execution_count": null,
   "metadata": {
    "collapsed": true
   },
   "outputs": [],
   "source": []
  }
 ],
 "metadata": {
  "kernelspec": {
   "display_name": "Python 3",
   "language": "python",
   "name": "python3"
  },
  "language_info": {
   "codemirror_mode": {
    "name": "ipython",
    "version": 3
   },
   "file_extension": ".py",
   "mimetype": "text/x-python",
   "name": "python",
   "nbconvert_exporter": "python",
   "pygments_lexer": "ipython3",
   "version": "3.6.3"
  }
 },
 "nbformat": 4,
 "nbformat_minor": 2
}
