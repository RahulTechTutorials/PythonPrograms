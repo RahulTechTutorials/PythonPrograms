{
 "cells": [
  {
   "cell_type": "code",
   "execution_count": 541,
   "metadata": {},
   "outputs": [
    {
     "name": "stdout",
     "output_type": "stream",
     "text": [
      "<class 'dict'>\n",
      "{'a': 1, 'b': 2, 'c': 3, 'd': 4, 'e': 5}\n",
      "<class 'dict'>\n",
      "{'a': 1, 'b': 2, 'c': 3, 'd': 4, 'e': 5}\n",
      "a 1\n",
      "b 2\n",
      "c 3\n",
      "d 4\n",
      "e 5\n"
     ]
    }
   ],
   "source": [
    "keys = ['a','b','c','d','e'] \n",
    "values = [1,2,3,4,5]  \n",
    "\n",
    "mydict = dict(zip(keys,values))\n",
    "print(type(mydict))\n",
    "print(mydict)\n",
    "\n",
    "Mydict = {k:v for (k,v) in zip(keys,values)}\n",
    "print(type(Mydict))\n",
    "print(Mydict)\n",
    "\n",
    "for (k,v) in zip(keys,values):\n",
    "    print(k,v)"
   ]
  },
  {
   "cell_type": "code",
   "execution_count": 577,
   "metadata": {},
   "outputs": [
    {
     "name": "stdout",
     "output_type": "stream",
     "text": [
      "[1, 2, 3, 4, 5]\n",
      "[2, 4]\n",
      "[]\n"
     ]
    }
   ],
   "source": [
    "mydict = {'a': 1, 'b': 2, 'c': 3, 'd': 4, 'e': 5}\n",
    "lst = list(x for x in mydict.values())\n",
    "print(lst)\n",
    "\n",
    "new_dict = {x:x**3 for x in lst}\n",
    "func = lambda x:x**3\n",
    "new1_list = map(func,lst)\n",
    "func2 = lambda x : x%2 == 0\n",
    "new10_list = filter(func2,lst)\n",
    "new11_list = [x for x in new10_list]\n",
    "print(new11_list)\n",
    "\n",
    "for x in new1_dict:\n",
    "    print(x)\n",
    "new2_lst = list(*new1_dict)\n",
    "print(new2_lst)"
   ]
  },
  {
   "cell_type": "code",
   "execution_count": 580,
   "metadata": {},
   "outputs": [
    {
     "name": "stdout",
     "output_type": "stream",
     "text": [
      "[[5, 1, 5], [5, 2, 10], [5, 3, 15], [5, 4, 20], [5, 5, 25], [5, 6, 30], [5, 7, 35], [5, 8, 40], [5, 9, 45], [5, 10, 50]]\n"
     ]
    }
   ],
   "source": [
    "a = 5\n",
    "table = [[a, b, a * b] for b in range(1, 11)]\n",
    "print(table)"
   ]
  },
  {
   "cell_type": "code",
   "execution_count": 583,
   "metadata": {},
   "outputs": [
    {
     "name": "stdout",
     "output_type": "stream",
     "text": [
      "[[0, 0, 0, 0, 0, 0, 0, 0, 0], [0, 0, 0, 0, 0, 0, 0, 0, 0], [0, 0, 0, 0, 0, 0, 0, 0, 0], [0, 0, 0, 0, 0, 0, 0, 0, 0], [0, 0, 0, 0, 0, 0, 0, 0, 0], [0, 0, 0, 0, 0, 0, 0, 0, 0], [0, 0, 0, 0, 0, 0, 0, 0, 0], [0, 0, 0, 0, 0, 0, 0, 0, 0], [0, 0, 0, 0, 0, 0, 0, 0, 0]]\n"
     ]
    }
   ],
   "source": [
    "print([[0 for i in range(9)] for j in range(9)])"
   ]
  },
  {
   "cell_type": "code",
   "execution_count": 599,
   "metadata": {},
   "outputs": [
    {
     "name": "stdout",
     "output_type": "stream",
     "text": [
      "700\n"
     ]
    }
   ],
   "source": [
    "import functools\n",
    "from functools import reduce \n",
    "max = reduce(lambda a,b : a if a > b else b, [700,12,145,110,15])\n",
    "print(max)"
   ]
  },
  {
   "cell_type": "code",
   "execution_count": 610,
   "metadata": {},
   "outputs": [
    {
     "name": "stdout",
     "output_type": "stream",
     "text": [
      "[700, 712, 757, 767, 782]\n"
     ]
    }
   ],
   "source": [
    "import itertools\n",
    "from itertools import accumulate \n",
    "sum =  itertools.accumulate([700,12,45,10,15], lambda a,b : a + b)\n",
    "print(list(sum))"
   ]
  },
  {
   "cell_type": "code",
   "execution_count": 611,
   "metadata": {},
   "outputs": [
    {
     "name": "stdout",
     "output_type": "stream",
     "text": [
      "[0, 0, 0, 0, 0, 1, 1, 1, 1, 1]\n"
     ]
    }
   ],
   "source": [
    "arr = [0, 1, 0, 1, 0, 0, 1, 1, 1, 0]\n",
    "arr_0 = list(x for x in arr if x == 0)\n",
    "arr_1 = list(x for x in arr if x == 1)\n",
    "arr_output = arr_0 + arr_1\n",
    "print(arr_output)"
   ]
  },
  {
   "cell_type": "code",
   "execution_count": 637,
   "metadata": {},
   "outputs": [
    {
     "name": "stdout",
     "output_type": "stream",
     "text": [
      "3\n"
     ]
    }
   ],
   "source": [
    "num = 21\n",
    "binary = bin(num)\n",
    "lst = [int(x) for x in binary[2:]]\n",
    "sum = reduce(lambda a,b : (a+b),  lst)\n",
    "print(sum)"
   ]
  },
  {
   "cell_type": "code",
   "execution_count": 643,
   "metadata": {},
   "outputs": [
    {
     "name": "stdout",
     "output_type": "stream",
     "text": [
      "GeeksforGeeks\n"
     ]
    }
   ],
   "source": [
    "from string import punctuation\n",
    "punctuation  += ' '\n",
    "str = \"$Gee*k;s..fo, r'Ge^eks?\"\n",
    "print(''.join([w for w in str if w not in punctuation]))\n",
    "\n"
   ]
  },
  {
   "cell_type": "code",
   "execution_count": 666,
   "metadata": {},
   "outputs": [
    {
     "name": "stdout",
     "output_type": "stream",
     "text": [
      "GeeksforGeeks\n"
     ]
    }
   ],
   "source": [
    "import re\n",
    "str = \"$Gee*k;s..fo, r'Ge^eks?\"\n",
    "outstr = ''\n",
    "for m in re.finditer( r'([A-Z]|[a-z])+',str):\n",
    "    outstr += m.group()\n",
    "print(outstr)\n"
   ]
  },
  {
   "cell_type": "code",
   "execution_count": 681,
   "metadata": {},
   "outputs": [
    {
     "name": "stdout",
     "output_type": "stream",
     "text": [
      "GeeksforGeeks\n"
     ]
    }
   ],
   "source": [
    "str = \"$Gee*k;s..fo, r'Ge^eks?\"\n",
    "new_str = ''.join([char for char in str if ord(char) in range(ord('a'),ord('z')+1,1) or ord(char) in range(ord('A'),ord('Z')+1,1) ])\n",
    "print(new_str)"
   ]
  },
  {
   "cell_type": "code",
   "execution_count": 678,
   "metadata": {},
   "outputs": [
    {
     "data": {
      "text/plain": [
       "(97, 122, 65, 90)"
      ]
     },
     "execution_count": 678,
     "metadata": {},
     "output_type": "execute_result"
    }
   ],
   "source": [
    "ord('a'), ord('z'),ord('A'),ord('Z')"
   ]
  },
  {
   "cell_type": "code",
   "execution_count": 717,
   "metadata": {},
   "outputs": [
    {
     "name": "stdout",
     "output_type": "stream",
     "text": [
      "['f', 'l', 'd']\n",
      "d\n"
     ]
    }
   ],
   "source": [
    "##finding the kth non repeating element from the string ..string = 'pythonisafunnylanguageitwasnamedonmontypythonshow' k = 3\n",
    "string = 'pythonisafunnylanguageitwasnamedonmonthypythonshow'\n",
    "non_repeating = [x for x in string if string.count(x) == 1]\n",
    "print(non_repeating)\n",
    "print(non_repeating[2])\n",
    "\n",
    "    "
   ]
  },
  {
   "cell_type": "code",
   "execution_count": 720,
   "metadata": {},
   "outputs": [
    {
     "name": "stdout",
     "output_type": "stream",
     "text": [
      "[(-2, 3)]\n"
     ]
    }
   ],
   "source": [
    "'''Given two unsorted arrays of distinct elements, the task is to find all pairs from both arrays whose sum is equal to x.\n",
    "Input :  arr1 = [-1, -2, 4, -6, 5, 7]\n",
    "         arr2 = [6, 3, 4, 0]  \n",
    "         x = 8\n",
    "Output : [(5, 3), (4, 4)]\n",
    "'''\n",
    "arr1 = [-1, -2, 4, -6, 5, 7]\n",
    "arr2 = [6, 3, 4, 0] \n",
    "total = 1\n",
    "\n",
    "lst = [(x,y) for x in arr1 for y in arr2 if (x+y) == total]\n",
    "print(lst)\n",
    "\n",
    "\n",
    "\n",
    "\n"
   ]
  },
  {
   "cell_type": "code",
   "execution_count": 730,
   "metadata": {},
   "outputs": [
    {
     "name": "stdout",
     "output_type": "stream",
     "text": [
      "[(4, 3), (7, 0)]\n"
     ]
    }
   ],
   "source": [
    "arr1 = [-1, -2, 4, -6, 5, 7]\n",
    "arr2 = [6, 3, 4, 0]  \n",
    "\n",
    "print([(x,y) for x in arr1 for y in arr2 if (x+y) == 7])\n"
   ]
  },
  {
   "cell_type": "code",
   "execution_count": 734,
   "metadata": {},
   "outputs": [
    {
     "name": "stdout",
     "output_type": "stream",
     "text": [
      "GeeksforGeeks\n"
     ]
    }
   ],
   "source": [
    "from string import punctuation\n",
    "string = \"$Gee*k;s..fo, r'Ge^eks?\"\n",
    "\n",
    "lst = [x for x in string if x not in punctuation + ' ']\n",
    "print(''.join(lst))\n"
   ]
  },
  {
   "cell_type": "code",
   "execution_count": 738,
   "metadata": {},
   "outputs": [
    {
     "name": "stdout",
     "output_type": "stream",
     "text": [
      "GeeksforGeeks\n"
     ]
    }
   ],
   "source": [
    "\n",
    "string = \"$Gee*k;s..fo, r'Ge^eks?\"\n",
    "\n",
    "print(''.join([x for x in string if ord(x) in range(ord('a'),ord('z')+1,1) or ord(x) in range(ord('A'),ord('Z')+1,1)  ]))\n",
    "\n",
    "\n"
   ]
  },
  {
   "cell_type": "code",
   "execution_count": 765,
   "metadata": {},
   "outputs": [
    {
     "name": "stdout",
     "output_type": "stream",
     "text": [
      "[2, 4, 6, 8, 10, 12, 14, 16, 18, 20, 22, 24, 26, 28, 30, 32, 34, 36, 38, 40, 42, 44, 46, 48, 50, 49, 47, 45, 43, 41, 39, 37, 35, 33, 31, 29, 27, 25, 23, 21, 19, 17, 15, 13, 11, 9, 7, 5, 3, 1]\n"
     ]
    }
   ],
   "source": [
    "'''\n",
    "We are given an array of n distinct numbers, the task is to sort all even-placed numbers in increasing and odd-place numbers in decreasing order. The modified array should contain all sorted even-placed numbers followed by reverse sorted odd-placed numbers.\n",
    "Note that the first element is considered as even because of its index 0.\n",
    "Examples:\n",
    "Input:  arr[] = {0, 1, 2, 3, 4, 5, 6, 7}\n",
    "Output: arr[] = {0, 2, 4, 6, 7, 5, 3, 1}\n",
    "Even-place elements : 0, 2, 4, 6\n",
    "Odd-place elements : 1, 3, 5, 7\n",
    "Even-place elements in increasing order : \n",
    "0, 2, 4, 6\n",
    "Odd-Place elements in decreasing order : \n",
    "7, 5, 3, 1\n",
    "'''\n",
    "lst = list(range(1,51))\n",
    "odd_lst = [x for x in lst if lst.index(x)%2==0] \n",
    "even_lst = [x for x in lst if lst.index(x)%2!=0] \n",
    "odd_lst.sort(reverse = True) ; even_lst.sort()\n",
    "final_lst = even_lst + odd_lst\n",
    "print(final_lst)\n"
   ]
  },
  {
   "cell_type": "code",
   "execution_count": 782,
   "metadata": {},
   "outputs": [
    {
     "name": "stdout",
     "output_type": "stream",
     "text": [
      "[0, 0, 0, 1, 2, 2, 2, 4, 4, 5, 6, 8]\n",
      "[8, 6, 5, 4, 4, 2, 2, 2, 1, 0, 0, 0]\n",
      "[0, 0, 8, 6, 5, 0, 1, 2, 2, 4, 4, 2, 2, 2]\n"
     ]
    }
   ],
   "source": [
    "import copy\n",
    "'''\n",
    "Given an array of N elements. The task is to print the array elements in such a way that first two elements are in increasing order, next 3 in decreasing order, next 4 in increasing order and so on.\n",
    "\n",
    "Examples:\n",
    "\n",
    "Input : arr = {2, 6, 2, 4, 0, 1, 4, 8, 2, 0, 0, 5}\n",
    "Output : 0 0 8 6 5 0 1 2 2 4 4 2 2 2\n",
    "\n",
    "Input : arr = {1, 2, 3, 4, 5, 6}\n",
    "Output : 1 2 6 5 4 3'''\n",
    "\n",
    "arr = [2, 6, 2, 4, 0, 1, 4, 8, 2, 0, 0, 5]\n",
    "\n",
    "arr.sort()\n",
    "incr_arr = copy.deepcopy(arr)\n",
    "print(incr_arr)\n",
    "arr.sort(reverse = True)\n",
    "desc_arr = copy.deepcopy(arr)\n",
    "print(desc_arr)\n",
    "output = []\n",
    "\n",
    "total = 0\n",
    "incr_count = 0\n",
    "desc_count = 0\n",
    "for x in range(2,len(arr)):\n",
    "    if x%2 ==0 :\n",
    "        output += incr_arr[incr_count:incr_count+x]\n",
    "        incr_count +=x\n",
    "        \n",
    "    else :\n",
    "        output += desc_arr[desc_count:desc_count+x]\n",
    "        desc_count +=x\n",
    "    if incr_count+desc_count >= len(arr):\n",
    "        break\n",
    "print(output)\n",
    "    \n",
    "        \n",
    "    \n",
    "    \n",
    "    \n",
    "\n"
   ]
  },
  {
   "cell_type": "code",
   "execution_count": null,
   "metadata": {
    "collapsed": true
   },
   "outputs": [],
   "source": []
  }
 ],
 "metadata": {
  "kernelspec": {
   "display_name": "Python 3",
   "language": "python",
   "name": "python3"
  },
  "language_info": {
   "codemirror_mode": {
    "name": "ipython",
    "version": 3
   },
   "file_extension": ".py",
   "mimetype": "text/x-python",
   "name": "python",
   "nbconvert_exporter": "python",
   "pygments_lexer": "ipython3",
   "version": "3.6.3"
  }
 },
 "nbformat": 4,
 "nbformat_minor": 2
}
