{
 "cells": [
  {
   "cell_type": "code",
   "execution_count": 5,
   "metadata": {},
   "outputs": [],
   "source": [
    "import socket\n",
    "mySock = socket.socket()\n",
    "host = 'marvin.cs.uidaho.edu'\n",
    "port = 80\n",
    "mySock.connect((host,port))\n",
    "mySock.send('GET http://marvin.cs.uidaho.edu/Teaching/CS515/pythonTutorial.pdf HTTP/1.0\\n\\n'.encode())\n",
    "fp = open('/Users/rahuljain/Desktop/Python/PythonPrograms/Python_Application/PythonGuidoVanRossum.pdf','wb')\n",
    "while True:\n",
    "    data = mySock.recv(512)\n",
    "    if (len(data)<1):\n",
    "        break\n",
    "    else:\n",
    "        fp.write(data)\n",
    "fp.close()\n",
    "mySock.close()"
   ]
  },
  {
   "cell_type": "code",
   "execution_count": 8,
   "metadata": {},
   "outputs": [],
   "source": [
    "import urllib.request\n",
    "fileContent = urllib.request.urlopen('http://marvin.cs.uidaho.edu/Teaching/CS515/pythonTutorial.pdf')\n",
    "fp = open('/Users/rahuljain/Desktop/Python/PythonPrograms/Python_Application/PythonGuidoVanRossum10.pdf','wb')\n",
    "fp.writelines(fileContent)\n",
    "fp.close()"
   ]
  },
  {
   "cell_type": "code",
   "execution_count": null,
   "metadata": {
    "collapsed": true
   },
   "outputs": [],
   "source": []
  }
 ],
 "metadata": {
  "kernelspec": {
   "display_name": "Python 3",
   "language": "python",
   "name": "python3"
  },
  "language_info": {
   "codemirror_mode": {
    "name": "ipython",
    "version": 3
   },
   "file_extension": ".py",
   "mimetype": "text/x-python",
   "name": "python",
   "nbconvert_exporter": "python",
   "pygments_lexer": "ipython3",
   "version": "3.6.3"
  }
 },
 "nbformat": 4,
 "nbformat_minor": 2
}
